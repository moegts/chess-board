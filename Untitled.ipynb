{
 "cells": [
  {
   "cell_type": "code",
   "execution_count": 1,
   "id": "14bb62f1-05be-4c10-8da1-27c6ee153e28",
   "metadata": {},
   "outputs": [],
   "source": [
    "import numpy as np"
   ]
  },
  {
   "cell_type": "code",
   "execution_count": 2,
   "id": "5b197ac4-1f2c-47ce-9259-cc46ab9e98f3",
   "metadata": {},
   "outputs": [],
   "source": [
    "chessBoard_as_numpy = np"
   ]
  },
  {
   "cell_type": "code",
   "execution_count": 3,
   "id": "f9af8dc6-b425-4b0d-b0dc-ac44a37ad871",
   "metadata": {},
   "outputs": [],
   "source": [
    "nums =np.array([[1,2],[3,4]])"
   ]
  },
  {
   "cell_type": "code",
   "execution_count": 4,
   "id": "3a75fa5c-2565-4bff-a586-83f32ca28243",
   "metadata": {},
   "outputs": [
    {
     "data": {
      "text/plain": [
       "array([[1, 2],\n",
       "       [3, 4]])"
      ]
     },
     "execution_count": 4,
     "metadata": {},
     "output_type": "execute_result"
    }
   ],
   "source": [
    "nums"
   ]
  },
  {
   "cell_type": "code",
   "execution_count": 5,
   "id": "d394654d-6ab3-4a06-9316-170887303a56",
   "metadata": {},
   "outputs": [
    {
     "data": {
      "text/plain": [
       "(2, 2)"
      ]
     },
     "execution_count": 5,
     "metadata": {},
     "output_type": "execute_result"
    }
   ],
   "source": [
    "nums.shape"
   ]
  },
  {
   "cell_type": "code",
   "execution_count": 9,
   "id": "15f26782-48c6-403b-a6d0-84aae449de1a",
   "metadata": {},
   "outputs": [
    {
     "data": {
      "text/plain": [
       "array([2, 4])"
      ]
     },
     "execution_count": 9,
     "metadata": {},
     "output_type": "execute_result"
    }
   ],
   "source": [
    "nums[:,1]"
   ]
  },
  {
   "cell_type": "code",
   "execution_count": null,
   "id": "ec53bb20-d902-45ea-9311-9d9c3e85ecf5",
   "metadata": {},
   "outputs": [],
   "source": []
  }
 ],
 "metadata": {
  "kernelspec": {
   "display_name": "Python 3 (ipykernel)",
   "language": "python",
   "name": "python3"
  },
  "language_info": {
   "codemirror_mode": {
    "name": "ipython",
    "version": 3
   },
   "file_extension": ".py",
   "mimetype": "text/x-python",
   "name": "python",
   "nbconvert_exporter": "python",
   "pygments_lexer": "ipython3",
   "version": "3.9.5"
  }
 },
 "nbformat": 4,
 "nbformat_minor": 5
}
