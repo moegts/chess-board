{
 "cells": [
  {
   "cell_type": "markdown",
   "metadata": {},
   "source": [
    "# Wecome to the Chess Game"
   ]
  },
  {
   "cell_type": "code",
   "execution_count": 1,
   "metadata": {},
   "outputs": [],
   "source": [
    "import numpy as np\n",
    "\n",
    "%matplotlib inline\n",
    "import matplotlib.pyplot as plt"
   ]
  },
  {
   "cell_type": "code",
   "execution_count": 2,
   "metadata": {},
   "outputs": [],
   "source": [
    "class chessBoard:\n",
    "    white, blue, red = [1,1,1], [0,0,1], [1,0,0]\n",
    "\n",
    "    def __init__(self):\n",
    "        self.grid = np.zeros((8,8,3))\n",
    "        self.x_blue, self.y_blue = 0, 0\n",
    "        self.x_red, self.y_red = 0, 0\n",
    "\n",
    "        for i in np.ndindex(8,8):\n",
    "            if i[0]%2 != i[1]%2: self.grid[i[0],i[1]] = chessBoard.white\n",
    "        \n",
    "\n",
    "    def add_red(self, row, col):\n",
    "        self.x_red, self.y_red= row, col\n",
    "        self.grid[row, col] = chessBoard.red\n",
    "\n",
    "    def add_blue(self, row, col):\n",
    "        self.x_blue, self.y_blue = row, col\n",
    "        self.grid[row,col] = chessBoard.blue\n",
    "        \n",
    "    def render(self):\n",
    "        plt.imshow(self.grid)\n",
    "\n",
    "    def is_diaganol(self):\n",
    "        # print(abs(self.x_red-self.x_blue))\n",
    "        # print(abs(self.y_red-self.y_blue))\n",
    "        if abs(self.x_red-self.x_blue) == abs(self.y_red-self.y_blue): return True\n",
    "\n",
    "\n",
    "    def is_under_attack(self):\n",
    "        diagonal = self.is_diaganol()\n",
    "        if self.x_red == self.x_blue: return True\n",
    "        elif self.y_red == self.y_blue: return True\n",
    "        elif diagonal : return True\n",
    "        else: return False"
   ]
  },
  {
   "cell_type": "code",
   "execution_count": 3,
   "metadata": {},
   "outputs": [],
   "source": [
    "board=chessBoard()\n",
    "board.add_blue(3,0) ; board.add_red(3,4)\n",
    "assert board.is_under_attack() == True\n",
    "\n",
    "board.add_blue(6,4) ; board.add_red(3,4)\n",
    "assert board.is_under_attack() == True\n",
    "\n",
    "board.add_blue(5,2) ; board.add_red(3,4)\n",
    "assert board.is_under_attack() == True\n",
    "\n",
    "board.add_blue(5,0) ; board.add_red(3,4)\n",
    "assert board.is_under_attack() == False"
   ]
  },
  {
   "cell_type": "code",
   "execution_count": 4,
   "metadata": {},
   "outputs": [
    {
     "data": {
      "image/png": "[encoded data removed]",
      "text/plain": [
       "<Figure size 432x288 with 1 Axes>"
      ]
     },
     "metadata": {
      "needs_background": "light"
     },
     "output_type": "display_data"
    }
   ],
   "source": [
    "board.render()"
   ]
  },
  {
   "cell_type": "code",
   "execution_count": null,
   "metadata": {},
   "outputs": [],
   "source": []
  }
 ],
 "metadata": {
  "interpreter": {
   "hash": "cda495522a6b1e955e6cffd1e4a044766fea7b52ec68517be9555c273b6e025a"
  },
  "kernelspec": {
   "display_name": "Python 3 (ipykernel)",
   "language": "python",
   "name": "python3"
  },
  "language_info": {
   "codemirror_mode": {
    "name": "ipython",
    "version": 3
   },
   "file_extension": ".py",
   "mimetype": "text/x-python",
   "name": "python",
   "nbconvert_exporter": "python",
   "pygments_lexer": "ipython3",
   "version": "3.9.5"
  }
 },
 "nbformat": 4,
 "nbformat_minor": 4
}
